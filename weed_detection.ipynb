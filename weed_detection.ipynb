{
 "cells": [
  {
   "cell_type": "code",
   "execution_count": 1,
   "metadata": {},
   "outputs": [],
   "source": [
    "import numpy as np \n",
    "import pandas as pd\n",
    "import matplotlib.pyplot as plt\n",
    "import seaborn as sns\n",
    "import math\n",
    "import cv2 \n",
    "from glob import glob\n",
    "\n",
    "#General imports\n",
    "import itertools\n",
    "import time\n",
    "import pickle\n",
    "import warnings\n",
    "warnings.filterwarnings('ignore')\n",
    "\n",
    "# KERAS AND SKLEARN MODULES\n",
    "from keras.utils import np_utils\n",
    "from keras.preprocessing.image import ImageDataGenerator\n",
    "from keras.models import Sequential\n",
    "from keras.layers import Dense\n",
    "from keras.layers import Dropout\n",
    "from keras.layers import Flatten\n",
    "from keras.layers.convolutional import Conv2D\n",
    "from keras.layers.convolutional import MaxPooling2D\n",
    "from keras.layers import BatchNormalization,GlobalAveragePooling2D\n",
    "from keras.callbacks import ModelCheckpoint,EarlyStopping\n",
    "from sklearn import preprocessing\n",
    "from sklearn.metrics import confusion_matrix\n",
    "from keras.preprocessing.image import ImageDataGenerator\n",
    "from sklearn.model_selection import train_test_split\n",
    "import sklearn.utils as sku\n",
    "from sklearn.metrics import classification_report\n",
    "from keras.models import load_model\n"
   ]
  },
  {
   "cell_type": "code",
   "execution_count": 3,
   "metadata": {},
   "outputs": [],
   "source": [
    "from tensorflow.keras.applications import mobilenet_v2"
   ]
  },
  {
   "cell_type": "code",
   "execution_count": 4,
   "metadata": {},
   "outputs": [
    {
     "data": {
      "text/html": [
       "<div>\n",
       "<style scoped>\n",
       "    .dataframe tbody tr th:only-of-type {\n",
       "        vertical-align: middle;\n",
       "    }\n",
       "\n",
       "    .dataframe tbody tr th {\n",
       "        vertical-align: top;\n",
       "    }\n",
       "\n",
       "    .dataframe thead th {\n",
       "        text-align: right;\n",
       "    }\n",
       "</style>\n",
       "<table border=\"1\" class=\"dataframe\">\n",
       "  <thead>\n",
       "    <tr style=\"text-align: right;\">\n",
       "      <th></th>\n",
       "      <th>Filename</th>\n",
       "      <th>Label</th>\n",
       "      <th>Species</th>\n",
       "    </tr>\n",
       "  </thead>\n",
       "  <tbody>\n",
       "    <tr>\n",
       "      <th>0</th>\n",
       "      <td>20160928-140314-0.jpg</td>\n",
       "      <td>0</td>\n",
       "      <td>Chinee apple</td>\n",
       "    </tr>\n",
       "    <tr>\n",
       "      <th>1</th>\n",
       "      <td>20160928-140337-0.jpg</td>\n",
       "      <td>0</td>\n",
       "      <td>Chinee apple</td>\n",
       "    </tr>\n",
       "    <tr>\n",
       "      <th>2</th>\n",
       "      <td>20160928-140731-0.jpg</td>\n",
       "      <td>0</td>\n",
       "      <td>Chinee apple</td>\n",
       "    </tr>\n",
       "    <tr>\n",
       "      <th>3</th>\n",
       "      <td>20160928-140747-0.jpg</td>\n",
       "      <td>0</td>\n",
       "      <td>Chinee apple</td>\n",
       "    </tr>\n",
       "    <tr>\n",
       "      <th>4</th>\n",
       "      <td>20160928-141107-0.jpg</td>\n",
       "      <td>0</td>\n",
       "      <td>Chinee apple</td>\n",
       "    </tr>\n",
       "  </tbody>\n",
       "</table>\n",
       "</div>"
      ],
      "text/plain": [
       "                Filename  Label       Species\n",
       "0  20160928-140314-0.jpg      0  Chinee apple\n",
       "1  20160928-140337-0.jpg      0  Chinee apple\n",
       "2  20160928-140731-0.jpg      0  Chinee apple\n",
       "3  20160928-140747-0.jpg      0  Chinee apple\n",
       "4  20160928-141107-0.jpg      0  Chinee apple"
      ]
     },
     "execution_count": 4,
     "metadata": {},
     "output_type": "execute_result"
    }
   ],
   "source": [
    "dirpath = 'deepweeds/'\n",
    "dirimg = dirpath + 'images/'\n",
    "labelsBase = dirpath + 'labels/'\n",
    "labelsPath = labelsBase + 'labels.csv'\n",
    "df = pd.read_csv(labelsPath)\n",
    "df.head()"
   ]
  },
  {
   "cell_type": "code",
   "execution_count": 6,
   "metadata": {},
   "outputs": [],
   "source": [
    "#Split in training and test set with a ratio of 80:20\n",
    "df_train, df_test = train_test_split(df, test_size=0.2, random_state=7, shuffle=True)"
   ]
  },
  {
   "cell_type": "markdown",
   "metadata": {},
   "source": [
    "# Preprocessing "
   ]
  },
  {
   "cell_type": "code",
   "execution_count": 7,
   "metadata": {},
   "outputs": [],
   "source": [
    "df_train['Label'] = df_train['Label'].astype('str')\n",
    "df_test['Label'] = df_test['Label'].astype('str')"
   ]
  },
  {
   "cell_type": "code",
   "execution_count": 8,
   "metadata": {},
   "outputs": [
    {
     "data": {
      "text/plain": [
       "(128, 128, 3)"
      ]
     },
     "execution_count": 8,
     "metadata": {},
     "output_type": "execute_result"
    }
   ],
   "source": [
    "batch_size = 512\n",
    "img_dim = 128\n",
    "num_classes=9\n",
    "def getImgTensor(img_d):\n",
    "    return (img_d, img_d, 3)\n",
    "getImgTensor(img_dim)"
   ]
  },
  {
   "cell_type": "code",
   "execution_count": 9,
   "metadata": {},
   "outputs": [
    {
     "name": "stdout",
     "output_type": "stream",
     "text": [
      "Found 14007 validated image filenames belonging to 9 classes.\n"
     ]
    }
   ],
   "source": [
    "Image_datagen = ImageDataGenerator(rescale=1./255)\n",
    "\n",
    "train_generator=Image_datagen.flow_from_dataframe(directory=dirimg,\n",
    "                                                  dataframe=df_train,\n",
    "                                                  x_col='Filename',\n",
    "                                                  y_col='Label',\n",
    "                                                  batch_size=batch_size,\n",
    "                                                  color_mode=\"rgb\",\n",
    "                                                  shuffle=True,\n",
    "                                                  class_mode=\"categorical\",\n",
    "                                                  target_size=getImgTensor(img_dim)[:2])"
   ]
  },
  {
   "cell_type": "code",
   "execution_count": 10,
   "metadata": {},
   "outputs": [
    {
     "name": "stdout",
     "output_type": "stream",
     "text": [
      "Found 3502 validated image filenames belonging to 9 classes.\n"
     ]
    }
   ],
   "source": [
    "test_datagen = ImageDataGenerator(rescale=1./255)\n",
    "\n",
    "test_generator=test_datagen.flow_from_dataframe(directory=dirimg, \n",
    "                                                dataframe=df_test,\n",
    "                                                x_col='Filename',\n",
    "                                                y_col='Label',\n",
    "                                                batch_size=1,\n",
    "                                                color_mode=\"rgb\",\n",
    "                                                shuffle=False,\n",
    "                                                class_mode=\"categorical\",\n",
    "                                                target_size=getImgTensor(img_dim)[:2])"
   ]
  },
  {
   "cell_type": "code",
   "execution_count": 12,
   "metadata": {},
   "outputs": [],
   "source": [
    "model = Sequential() \n",
    "model.add(Conv2D(16, (5,5), activation='relu', input_shape=(img_dim, img_dim, 3))) \n",
    "model.add(Conv2D(16, (5, 5), activation='relu')) \n",
    "model.add(MaxPooling2D((2, 2))) \n",
    "model.add(Conv2D(32, (3, 3), activation='relu')) \n",
    "model.add(Conv2D(32, (3, 3), activation='relu'))\n",
    "model.add(MaxPooling2D((2, 2)))\n",
    "model.add(Conv2D(64, (3, 3), activation='relu')) \n",
    "model.add(Conv2D(64, (3, 3), activation='relu')) \n",
    "model.add(Flatten()) \n",
    "model.add(Dense(256, activation='relu'))\n",
    "model.add(Dense(num_classes, activation='softmax'))\n",
    "model.compile(loss='categorical_crossentropy', optimizer='adam', metrics=['accuracy'])\n"
   ]
  },
  {
   "cell_type": "code",
   "execution_count": 13,
   "metadata": {},
   "outputs": [
    {
     "name": "stdout",
     "output_type": "stream",
     "text": [
      "Model: \"sequential\"\n",
      "_________________________________________________________________\n",
      "Layer (type)                 Output Shape              Param #   \n",
      "=================================================================\n",
      "conv2d (Conv2D)              (None, 124, 124, 16)      1216      \n",
      "_________________________________________________________________\n",
      "conv2d_1 (Conv2D)            (None, 120, 120, 16)      6416      \n",
      "_________________________________________________________________\n",
      "max_pooling2d (MaxPooling2D) (None, 60, 60, 16)        0         \n",
      "_________________________________________________________________\n",
      "conv2d_2 (Conv2D)            (None, 58, 58, 32)        4640      \n",
      "_________________________________________________________________\n",
      "conv2d_3 (Conv2D)            (None, 56, 56, 32)        9248      \n",
      "_________________________________________________________________\n",
      "max_pooling2d_1 (MaxPooling2 (None, 28, 28, 32)        0         \n",
      "_________________________________________________________________\n",
      "conv2d_4 (Conv2D)            (None, 26, 26, 64)        18496     \n",
      "_________________________________________________________________\n",
      "conv2d_5 (Conv2D)            (None, 24, 24, 64)        36928     \n",
      "_________________________________________________________________\n",
      "flatten (Flatten)            (None, 36864)             0         \n",
      "_________________________________________________________________\n",
      "dense (Dense)                (None, 256)               9437440   \n",
      "_________________________________________________________________\n",
      "dense_1 (Dense)              (None, 9)                 2313      \n",
      "=================================================================\n",
      "Total params: 9,516,697\n",
      "Trainable params: 9,516,697\n",
      "Non-trainable params: 0\n",
      "_________________________________________________________________\n"
     ]
    }
   ],
   "source": [
    "model.summary()"
   ]
  },
  {
   "cell_type": "code",
   "execution_count": 15,
   "metadata": {},
   "outputs": [
    {
     "name": "stdout",
     "output_type": "stream",
     "text": [
      "Epoch 1/15\n",
      "28/28 [==============================] - 30s 757ms/step - loss: 1.7741 - accuracy: 0.5028\n",
      "Epoch 2/15\n",
      "28/28 [==============================] - 19s 659ms/step - loss: 1.5401 - accuracy: 0.5226\n",
      "Epoch 3/15\n",
      "28/28 [==============================] - 20s 679ms/step - loss: 1.4508 - accuracy: 0.5292\n",
      "Epoch 4/15\n",
      "28/28 [==============================] - 19s 671ms/step - loss: 1.3654 - accuracy: 0.5419\n",
      "Epoch 5/15\n",
      "28/28 [==============================] - 20s 697ms/step - loss: 1.2265 - accuracy: 0.5740\n",
      "Epoch 6/15\n",
      "28/28 [==============================] - 20s 692ms/step - loss: 1.1886 - accuracy: 0.5831\n",
      "Epoch 7/15\n",
      "28/28 [==============================] - 20s 682ms/step - loss: 1.1401 - accuracy: 0.5988\n",
      "Epoch 8/15\n",
      "28/28 [==============================] - 19s 663ms/step - loss: 1.0890 - accuracy: 0.6207\n",
      "Epoch 9/15\n",
      "28/28 [==============================] - 19s 664ms/step - loss: 1.0836 - accuracy: 0.6138\n",
      "Epoch 10/15\n",
      "28/28 [==============================] - 20s 677ms/step - loss: 1.0202 - accuracy: 0.6391\n",
      "Epoch 11/15\n",
      "28/28 [==============================] - 20s 683ms/step - loss: 0.9403 - accuracy: 0.6668\n",
      "Epoch 12/15\n",
      "28/28 [==============================] - 20s 702ms/step - loss: 0.8592 - accuracy: 0.6942\n",
      "Epoch 13/15\n",
      "28/28 [==============================] - 19s 677ms/step - loss: 0.7898 - accuracy: 0.7179\n",
      "Epoch 14/15\n",
      "28/28 [==============================] - 20s 695ms/step - loss: 0.6819 - accuracy: 0.7583\n",
      "Epoch 15/15\n",
      "28/28 [==============================] - 20s 706ms/step - loss: 0.5592 - accuracy: 0.8029\n",
      "Total time:  306.23518347740173 seconds\n"
     ]
    }
   ],
   "source": [
    "steps_per_epoch = np.ceil(train_generator.n/train_generator.batch_size)\n",
    "epochs=15\n",
    "start=time.time()\n",
    "my_history=model.fit_generator(generator=train_generator, steps_per_epoch=steps_per_epoch, \n",
    "                               epochs=epochs, verbose=1)\n",
    "print(\"Total time: \", time.time() - start, \"seconds\")"
   ]
  },
  {
   "cell_type": "code",
   "execution_count": 16,
   "metadata": {},
   "outputs": [],
   "source": [
    "model.save('personal_model.h5')"
   ]
  },
  {
   "cell_type": "code",
   "execution_count": 14,
   "metadata": {},
   "outputs": [],
   "source": [
    "model=load_model('personal_model.h5')"
   ]
  },
  {
   "cell_type": "code",
   "execution_count": 17,
   "metadata": {},
   "outputs": [
    {
     "name": "stdout",
     "output_type": "stream",
     "text": [
      "3502/3502 [==============================] - 11s 3ms/step\n"
     ]
    }
   ],
   "source": [
    "test_steps_per_epoch = int(test_generator.n/test_generator.batch_size)\n",
    "predictions = model.predict_generator(test_generator, steps=test_steps_per_epoch, verbose=1)"
   ]
  },
  {
   "cell_type": "code",
   "execution_count": 18,
   "metadata": {},
   "outputs": [
    {
     "data": {
      "text/plain": [
       "<AxesSubplot:>"
      ]
     },
     "execution_count": 18,
     "metadata": {},
     "output_type": "execute_result"
    },
    {
     "data": {
      "image/png": "[encoded data removed]",
      "text/plain": [
       "<Figure size 432x288 with 2 Axes>"
      ]
     },
     "metadata": {
      "needs_background": "light"
     },
     "output_type": "display_data"
    }
   ],
   "source": [
    "y_predicted=np.argmax(predictions, axis=1).astype('str')\n",
    "y_true=df_test['Label']\n",
    "sns.heatmap(confusion_matrix(y_true,y_predicted),annot=True)"
   ]
  },
  {
   "cell_type": "code",
   "execution_count": 19,
   "metadata": {},
   "outputs": [
    {
     "data": {
      "text/plain": [
       "array([[  36,   18,    5,    9,   22,   11,    0,   66,   63],\n",
       "       [  22,   77,    1,    2,    3,   11,   15,   28,   66],\n",
       "       [   3,    2,   87,   16,   43,    2,    0,    5,   56],\n",
       "       [   7,    6,    8,   48,   94,    4,    2,    4,   29],\n",
       "       [   5,    0,   16,   17,  133,    7,    0,    2,   29],\n",
       "       [  22,   23,    1,    1,   11,   38,    8,   34,   64],\n",
       "       [   9,   52,    0,    1,    0,    6,   82,    2,   62],\n",
       "       [  32,   10,    2,    6,    5,   13,    4,   95,   29],\n",
       "       [  57,   59,   68,   41,  101,   28,   27,   71, 1358]])"
      ]
     },
     "execution_count": 19,
     "metadata": {},
     "output_type": "execute_result"
    }
   ],
   "source": [
    "confusion_matrix(y_true,y_predicted)"
   ]
  },
  {
   "cell_type": "code",
   "execution_count": 20,
   "metadata": {},
   "outputs": [
    {
     "name": "stdout",
     "output_type": "stream",
     "text": [
      "              precision    recall  f1-score   support\n",
      "\n",
      "           0       0.19      0.16      0.17       230\n",
      "           1       0.31      0.34      0.33       225\n",
      "           2       0.46      0.41      0.43       214\n",
      "           3       0.34      0.24      0.28       202\n",
      "           4       0.32      0.64      0.43       209\n",
      "           5       0.32      0.19      0.24       202\n",
      "           6       0.59      0.38      0.47       214\n",
      "           7       0.31      0.48      0.38       196\n",
      "           8       0.77      0.75      0.76      1810\n",
      "\n",
      "    accuracy                           0.56      3502\n",
      "   macro avg       0.40      0.40      0.39      3502\n",
      "weighted avg       0.57      0.56      0.56      3502\n",
      "\n"
     ]
    }
   ],
   "source": [
    "print(classification_report(y_true, y_predicted))"
   ]
  },
  {
   "cell_type": "code",
   "execution_count": 24,
   "metadata": {},
   "outputs": [
    {
     "name": "stdout",
     "output_type": "stream",
     "text": [
      "Model: \"sequential_2\"\n",
      "_________________________________________________________________\n",
      "Layer (type)                 Output Shape              Param #   \n",
      "=================================================================\n",
      "mobilenetv2_1.00_128 (Functi (None, 4, 4, 1280)        2257984   \n",
      "_________________________________________________________________\n",
      "global_average_pooling2d_1 ( (None, 1280)              0         \n",
      "_________________________________________________________________\n",
      "dropout_2 (Dropout)          (None, 1280)              0         \n",
      "_________________________________________________________________\n",
      "dense_4 (Dense)              (None, 256)               327936    \n",
      "_________________________________________________________________\n",
      "dropout_3 (Dropout)          (None, 256)               0         \n",
      "_________________________________________________________________\n",
      "dense_5 (Dense)              (None, 9)                 2313      \n",
      "=================================================================\n",
      "Total params: 2,588,233\n",
      "Trainable params: 330,249\n",
      "Non-trainable params: 2,257,984\n",
      "_________________________________________________________________\n",
      "None\n",
      "Model: \"sequential_2\"\n",
      "_________________________________________________________________\n",
      "Layer (type)                 Output Shape              Param #   \n",
      "=================================================================\n",
      "mobilenetv2_1.00_128 (Functi (None, 4, 4, 1280)        2257984   \n",
      "_________________________________________________________________\n",
      "global_average_pooling2d_1 ( (None, 1280)              0         \n",
      "_________________________________________________________________\n",
      "dropout_2 (Dropout)          (None, 1280)              0         \n",
      "_________________________________________________________________\n",
      "dense_4 (Dense)              (None, 256)               327936    \n",
      "_________________________________________________________________\n",
      "dropout_3 (Dropout)          (None, 256)               0         \n",
      "_________________________________________________________________\n",
      "dense_5 (Dense)              (None, 9)                 2313      \n",
      "=================================================================\n",
      "Total params: 2,588,233\n",
      "Trainable params: 330,249\n",
      "Non-trainable params: 2,257,984\n",
      "_________________________________________________________________\n",
      "None\n"
     ]
    }
   ],
   "source": [
    "#Using Mobile net V2 model and imagenet weights \n",
    "#top is not included\n",
    "img_dim=128\n",
    "mobilenet = mobilenet_v2.MobileNetV2(weights='imagenet', input_shape=getImgTensor(img_dim), include_top=False)\n",
    "mobilenet.trainable = False\n",
    "\n",
    "model_mobilenet = Sequential([\n",
    "                    mobilenet,\n",
    "                    GlobalAveragePooling2D(),\n",
    "                    Dropout(0.3),\n",
    "                    Dense(256, activation='relu'),\n",
    "                    Dropout(0.25),\n",
    "                    Dense(9, activation='softmax')\n",
    "])\n",
    "print(model_mobilenet.summary())\n",
    "model_mobilenet.compile(loss='categorical_crossentropy', optimizer='adam', metrics=['accuracy'])\n",
    "print(model_mobilenet.summary())"
   ]
  },
  {
   "cell_type": "code",
   "execution_count": 26,
   "metadata": {},
   "outputs": [
    {
     "name": "stdout",
     "output_type": "stream",
     "text": [
      "Epoch 1/10\n",
      "28/28 [==============================] - 19s 662ms/step - loss: 0.6144 - accuracy: 0.7778\n",
      "Epoch 2/10\n",
      "28/28 [==============================] - 19s 661ms/step - loss: 0.5918 - accuracy: 0.7929\n",
      "Epoch 3/10\n",
      "28/28 [==============================] - 19s 660ms/step - loss: 0.5728 - accuracy: 0.7920\n",
      "Epoch 4/10\n",
      "28/28 [==============================] - 19s 657ms/step - loss: 0.5570 - accuracy: 0.8024\n",
      "Epoch 5/10\n",
      "28/28 [==============================] - 19s 669ms/step - loss: 0.5450 - accuracy: 0.8047\n",
      "Epoch 6/10\n",
      "28/28 [==============================] - 19s 669ms/step - loss: 0.5383 - accuracy: 0.8073\n",
      "Epoch 7/10\n",
      "28/28 [==============================] - 19s 674ms/step - loss: 0.5170 - accuracy: 0.8117\n",
      "Epoch 8/10\n",
      "28/28 [==============================] - 19s 667ms/step - loss: 0.5099 - accuracy: 0.8159\n",
      "Epoch 9/10\n",
      "28/28 [==============================] - 19s 676ms/step - loss: 0.4949 - accuracy: 0.8209\n",
      "Epoch 10/10\n",
      "28/28 [==============================] - 19s 666ms/step - loss: 0.4898 - accuracy: 0.8213\n",
      "Total time:  190.3204538822174 seconds\n"
     ]
    }
   ],
   "source": [
    "epochs=10\n",
    "start=time.time()\n",
    "mobilenet_history=model_mobilenet.fit(train_generator, steps_per_epoch=steps_per_epoch, \n",
    "                               epochs=epochs ,verbose=1)\n",
    "print(\"Total time: \", time.time() - start, \"seconds\")"
   ]
  },
  {
   "cell_type": "code",
   "execution_count": 27,
   "metadata": {},
   "outputs": [],
   "source": [
    "model_mobilenet.save('model_mobilenet.h5')\n",
    "with open('trainHistoryDict_mobilenet', 'wb') as file_pi:\n",
    "    pickle.dump(mobilenet_history.history, file_pi)"
   ]
  },
  {
   "cell_type": "code",
   "execution_count": 28,
   "metadata": {},
   "outputs": [
    {
     "name": "stdout",
     "output_type": "stream",
     "text": [
      "3502/3502 [==============================] - 41s 11ms/step\n"
     ]
    }
   ],
   "source": [
    "test_steps_per_epoch = int(test_generator.n/test_generator.batch_size)\n",
    "predictions = model_mobilenet.predict_generator(test_generator, steps=test_steps_per_epoch, verbose=1)"
   ]
  },
  {
   "cell_type": "code",
   "execution_count": 29,
   "metadata": {},
   "outputs": [
    {
     "data": {
      "text/plain": [
       "<AxesSubplot:>"
      ]
     },
     "execution_count": 29,
     "metadata": {},
     "output_type": "execute_result"
    },
    {
     "data": {
      "image/png": "[encoded data removed]",
      "text/plain": [
       "<Figure size 432x288 with 2 Axes>"
      ]
     },
     "metadata": {
      "needs_background": "light"
     },
     "output_type": "display_data"
    }
   ],
   "source": [
    "y_predicted=np.argmax(predictions, axis=1).astype('str')\n",
    "y_true=df_test['Label']\n",
    "sns.heatmap(confusion_matrix(y_true,y_predicted),annot=True)"
   ]
  },
  {
   "cell_type": "code",
   "execution_count": 30,
   "metadata": {},
   "outputs": [
    {
     "data": {
      "text/plain": [
       "array([[ 143,    5,    0,    5,    3,    4,    5,   24,   41],\n",
       "       [   7,  169,    0,    1,    0,    1,   13,    8,   26],\n",
       "       [   1,    0,  164,    4,   21,    1,    1,    0,   22],\n",
       "       [   0,    2,    6,  127,   13,    3,    0,    3,   48],\n",
       "       [   1,    0,    6,    8,  170,    1,    1,    1,   21],\n",
       "       [   3,    6,    1,    1,    0,  169,    4,    1,   17],\n",
       "       [   0,    9,    1,    0,    0,    4,  181,    1,   18],\n",
       "       [  19,    8,    0,    2,    2,    3,    8,  122,   32],\n",
       "       [  21,   41,   17,   38,   18,   25,   55,   20, 1575]])"
      ]
     },
     "execution_count": 30,
     "metadata": {},
     "output_type": "execute_result"
    }
   ],
   "source": [
    "confusion_matrix(y_true,y_predicted)"
   ]
  },
  {
   "cell_type": "code",
   "execution_count": 31,
   "metadata": {},
   "outputs": [
    {
     "name": "stdout",
     "output_type": "stream",
     "text": [
      "              precision    recall  f1-score   support\n",
      "\n",
      "           0       0.73      0.62      0.67       230\n",
      "           1       0.70      0.75      0.73       225\n",
      "           2       0.84      0.77      0.80       214\n",
      "           3       0.68      0.63      0.65       202\n",
      "           4       0.75      0.81      0.78       209\n",
      "           5       0.80      0.84      0.82       202\n",
      "           6       0.68      0.85      0.75       214\n",
      "           7       0.68      0.62      0.65       196\n",
      "           8       0.88      0.87      0.87      1810\n",
      "\n",
      "    accuracy                           0.81      3502\n",
      "   macro avg       0.75      0.75      0.75      3502\n",
      "weighted avg       0.81      0.81      0.80      3502\n",
      "\n"
     ]
    }
   ],
   "source": [
    "print(classification_report(y_true, y_predicted))"
   ]
  },
  {
   "cell_type": "code",
   "execution_count": null,
   "metadata": {},
   "outputs": [],
   "source": []
  }
 ],
 "metadata": {
  "interpreter": {
   "hash": "1941a6c0d85b0846a4c07ebb3abf1cd6845c3166ad1f04e4e93bdea64202d3ef"
  },
  "kernelspec": {
   "display_name": "Python 3",
   "language": "python",
   "name": "python3"
  },
  "language_info": {
   "codemirror_mode": {
    "name": "ipython",
    "version": 3
   },
   "file_extension": ".py",
   "mimetype": "text/x-python",
   "name": "python",
   "nbconvert_exporter": "python",
   "pygments_lexer": "ipython3",
   "version": "3.8.8"
  }
 },
 "nbformat": 4,
 "nbformat_minor": 2
}
